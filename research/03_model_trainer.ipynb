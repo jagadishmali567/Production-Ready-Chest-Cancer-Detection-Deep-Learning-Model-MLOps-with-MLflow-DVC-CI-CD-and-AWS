{
 "cells": [
  {
   "cell_type": "code",
   "execution_count": 1,
   "metadata": {},
   "outputs": [],
   "source": [
    "# import os for creating directories and file paths in the notebook environment\n",
    "import os"
   ]
  },
  {
   "cell_type": "code",
   "execution_count": 2,
   "metadata": {},
   "outputs": [
    {
     "data": {
      "text/plain": [
       "'g:\\\\Jagadish\\\\Production-Ready-Chest-Cancer-Detection-Deep-Learning-Model-MLOps-with-MLflow-DVC-CI-CD-and-AWS\\\\research'"
      ]
     },
     "execution_count": 2,
     "metadata": {},
     "output_type": "execute_result"
    }
   ],
   "source": [
    "# checking the current working directory of the notebook environment\n",
    "%pwd"
   ]
  },
  {
   "cell_type": "code",
   "execution_count": 3,
   "metadata": {},
   "outputs": [],
   "source": [
    "# changing the current working directory to the parent directory of the notebook environment\n",
    "os.chdir(\"../\")"
   ]
  },
  {
   "cell_type": "code",
   "execution_count": 4,
   "metadata": {},
   "outputs": [
    {
     "data": {
      "text/plain": [
       "'g:\\\\Jagadish\\\\Production-Ready-Chest-Cancer-Detection-Deep-Learning-Model-MLOps-with-MLflow-DVC-CI-CD-and-AWS'"
      ]
     },
     "execution_count": 4,
     "metadata": {},
     "output_type": "execute_result"
    }
   ],
   "source": [
    "# checking the current working directory of the notebook environment\n",
    "%pwd"
   ]
  },
  {
   "cell_type": "code",
   "execution_count": 5,
   "metadata": {},
   "outputs": [],
   "source": [
    "from dataclasses import dataclass\n",
    "from pathlib import Path\n",
    "\n",
    "@dataclass(frozen=True)\n",
    "class TrainingConfig:\n",
    "    \"\"\"\n",
    "    Configuration class for training parameters and file paths.\n",
    "\n",
    "    Attributes:\n",
    "        root_dir (Path): Directory where the project is located.\n",
    "        trained_model_path (Path): Path to the trained model.\n",
    "        updated_base_model_path (Path): Path to the updated base model.\n",
    "        training_data (Path): Path to the training data.\n",
    "        params_epochs (int): Number of training epochs.\n",
    "        params_batch_size (int): Size of each training batch.\n",
    "        params_is_augmentation (bool): Indicates if data augmentation is applied.\n",
    "        params_image_size (list): Size of the images used for training.\n",
    "    \"\"\"\n",
    "    root_dir: Path\n",
    "    trained_model_path: Path\n",
    "    updated_base_model_path: Path\n",
    "    training_data: Path\n",
    "    params_epochs: int\n",
    "    params_batch_size: int\n",
    "    params_is_augmentation: bool\n",
    "    params_image_size: list\n"
   ]
  },
  {
   "cell_type": "code",
   "execution_count": 6,
   "metadata": {},
   "outputs": [],
   "source": [
    "from cnnClassifier.constants import *\n",
    "from cnnClassifier.utils.common import read_yaml, create_directories\n",
    "import tensorflow as tf"
   ]
  },
  {
   "cell_type": "code",
   "execution_count": 7,
   "metadata": {},
   "outputs": [],
   "source": [
    "class ConfigurationManager:\n",
    "    def __init__(self, config_filepath=CONFIG_FILE_PATH, params_filepath=PARAMS_FILE_PATH):\n",
    "        \"\"\"\n",
    "        Initializes the ConfigurationManager with the file paths for the configuration and parameters.\n",
    "\n",
    "        Args:\n",
    "            config_filepath (str): Path to the configuration YAML file.\n",
    "            params_filepath (str): Path to the parameters YAML file.\n",
    "        \"\"\"\n",
    "        self.config = read_yaml(config_filepath)  # Read configuration from YAML file\n",
    "        self.params = read_yaml(params_filepath)  # Read parameters from YAML file\n",
    "\n",
    "        # Create directories specified in the configuration\n",
    "        create_directories([self.config.artifacts_root])  \n",
    "\n",
    "    def get_training_config(self) -> TrainingConfig:\n",
    "        \"\"\"\n",
    "        Creates a TrainingConfig object with the training parameters and file paths.\n",
    "\n",
    "        Returns:\n",
    "            TrainingConfig: An instance of the TrainingConfig class containing training configuration details.\n",
    "        \"\"\"\n",
    "        training = self.config.training  # Retrieve training configuration\n",
    "        prepare_base_model = self.config.prepare_base_model  # Retrieve base model preparation configuration\n",
    "        params = self.params  # Retrieve training parameters\n",
    "\n",
    "        # Construct the path to the training data\n",
    "        training_data = os.path.join(self.config.data_ingestion.unzip_dir, \"Chest-CT-Scan-data\")\n",
    "\n",
    "        # Create the directory for the training root if it doesn't exist\n",
    "        create_directories([Path(training.root_dir)])  \n",
    "\n",
    "        # Create an instance of TrainingConfig with the retrieved configurations and parameters\n",
    "        training_config = TrainingConfig(\n",
    "            root_dir=Path(training.root_dir),\n",
    "            trained_model_path=Path(training.trained_model_path),\n",
    "            updated_base_model_path=Path(prepare_base_model.updated_base_model_path),\n",
    "            training_data=Path(training_data),\n",
    "            params_epochs=params.EPOCHS,\n",
    "            params_batch_size=params.BATCH_SIZE,\n",
    "            params_is_augmentation=params.AUGMENTATION,\n",
    "            params_image_size=params.IMAGE_SIZE\n",
    "        )\n",
    "\n",
    "        return training_config\n"
   ]
  },
  {
   "cell_type": "code",
   "execution_count": 8,
   "metadata": {},
   "outputs": [],
   "source": [
    "import os\n",
    "import urllib.request as request\n",
    "from zipfile import ZipFile\n",
    "import tensorflow as tf\n",
    "import time"
   ]
  },
  {
   "cell_type": "code",
   "execution_count": 9,
   "metadata": {},
   "outputs": [],
   "source": [
    "class Training:\n",
    "    def __init__(self, config: TrainingConfig):\n",
    "        \"\"\"\n",
    "        Initializes the Training class with the given configuration.\n",
    "\n",
    "        Args:\n",
    "            config (TrainingConfig): Configuration parameters for training.\n",
    "        \"\"\"\n",
    "        self.config = config  # Store the training configuration\n",
    "\n",
    "    def get_base_model(self):\n",
    "        \"\"\"\n",
    "        Loads the base model from the specified path.\n",
    "        \"\"\"\n",
    "        self.model = tf.keras.models.load_model(\n",
    "            self.config.updated_base_model_path\n",
    "        )\n",
    "\n",
    "    def train_valid_generator(self):\n",
    "        \"\"\"\n",
    "        Creates training and validation data generators with or without augmentation\n",
    "        based on the configuration parameters.\n",
    "        \"\"\"\n",
    "        # Common data generator arguments\n",
    "        datagenerator_kwargs = dict(\n",
    "            rescale=1./255,  # Rescale pixel values\n",
    "            validation_split=0.20  # Split 20% of data for validation\n",
    "        )\n",
    "\n",
    "        # Arguments for data flow\n",
    "        dataflow_kwargs = dict(\n",
    "            target_size=self.config.params_image_size[:-1],  # Target image size\n",
    "            batch_size=self.config.params_batch_size,  # Batch size\n",
    "            interpolation=\"bilinear\"  # Interpolation method\n",
    "        )\n",
    "\n",
    "        # Create validation data generator\n",
    "        valid_datagenerator = tf.keras.preprocessing.image.ImageDataGenerator(\n",
    "            **datagenerator_kwargs\n",
    "        )\n",
    "\n",
    "        # Flow validation data from directory\n",
    "        self.valid_generator = valid_datagenerator.flow_from_directory(\n",
    "            directory=self.config.training_data,\n",
    "            subset=\"validation\",\n",
    "            shuffle=False,\n",
    "            **dataflow_kwargs\n",
    "        )\n",
    "\n",
    "        # Conditional data augmentation\n",
    "        if self.config.params_is_augmentation:\n",
    "            train_datagenerator = tf.keras.preprocessing.image.ImageDataGenerator(\n",
    "                rotation_range=40,  # Rotate images\n",
    "                horizontal_flip=True,  # Flip images horizontally\n",
    "                width_shift_range=0.2,  # Shift images horizontally\n",
    "                height_shift_range=0.2,  # Shift images vertically\n",
    "                shear_range=0.2,  # Shear images\n",
    "                zoom_range=0.2,  # Zoom images\n",
    "                **datagenerator_kwargs\n",
    "            )\n",
    "        else:\n",
    "            train_datagenerator = valid_datagenerator  # Use validation generator if no augmentation\n",
    "\n",
    "        # Flow training data from directory\n",
    "        self.train_generator = train_datagenerator.flow_from_directory(\n",
    "            directory=self.config.training_data,\n",
    "            subset=\"training\",\n",
    "            shuffle=True,\n",
    "            **dataflow_kwargs\n",
    "        )\n",
    "\n",
    "    @staticmethod\n",
    "    def save_model(path: Path, model: tf.keras.Model):\n",
    "        \"\"\"\n",
    "        Saves the trained model to the specified path.\n",
    "\n",
    "        Args:\n",
    "            path (Path): Path where the model will be saved.\n",
    "            model (tf.keras.Model): Trained TensorFlow model.\n",
    "        \"\"\"\n",
    "        model.save(path)\n",
    "\n",
    "    def train(self):\n",
    "        \"\"\"\n",
    "        Trains the model using the training and validation generators.\n",
    "\n",
    "        Steps are calculated based on the number of samples and batch size.\n",
    "        The trained model is saved to the specified path.\n",
    "        \"\"\"\n",
    "        self.steps_per_epoch = self.train_generator.samples // self.train_generator.batch_size\n",
    "        self.validation_steps = self.valid_generator.samples // self.valid_generator.batch_size\n",
    "\n",
    "        # Train the model\n",
    "        self.model.fit(\n",
    "            self.train_generator,\n",
    "            epochs=self.config.params_epochs,\n",
    "            steps_per_epoch=self.steps_per_epoch,\n",
    "            validation_steps=self.validation_steps,\n",
    "            validation_data=self.valid_generator\n",
    "        )\n",
    "\n",
    "        # Save the trained model\n",
    "        self.save_model(\n",
    "            path=self.config.trained_model_path,\n",
    "            model=self.model\n",
    "        )\n"
   ]
  },
  {
   "cell_type": "code",
   "execution_count": 10,
   "metadata": {},
   "outputs": [
    {
     "name": "stdout",
     "output_type": "stream",
     "text": [
      "[2024-12-15 18:39:50,935: INFO: common: yaml file: config\\config.yaml loaded successfully]\n",
      "[2024-12-15 18:39:50,976: INFO: common: yaml file: params.yaml loaded successfully]\n",
      "[2024-12-15 18:39:51,167: INFO: common: created directory at: artifacts]\n",
      "[2024-12-15 18:39:51,190: INFO: common: created directory at: artifacts\\training]\n",
      "Found 68 images belonging to 2 classes.\n",
      "Found 275 images belonging to 2 classes.\n",
      "17/17 [==============================] - 63s 4s/step - loss: 17.5137 - accuracy: 0.4749 - val_loss: 28.6042 - val_accuracy: 0.6094\n"
     ]
    }
   ],
   "source": [
    "try:\n",
    "    # Initialize the ConfigurationManager with default paths\n",
    "    config = ConfigurationManager()\n",
    "    \n",
    "    # Retrieve the training configuration\n",
    "    training_config = config.get_training_config()\n",
    "    \n",
    "    # Initialize the Training class with the retrieved configuration\n",
    "    training = Training(config=training_config)\n",
    "    \n",
    "    # Load the base model\n",
    "    training.get_base_model()\n",
    "    \n",
    "    # Create training and validation data generators\n",
    "    training.train_valid_generator()\n",
    "    \n",
    "    # Train the model using the generators\n",
    "    training.train()\n",
    "    \n",
    "except Exception as e:\n",
    "    # Raise any exceptions encountered during the process\n",
    "    raise e\n"
   ]
  }
 ],
 "metadata": {
  "kernelspec": {
   "display_name": "ccancer",
   "language": "python",
   "name": "python3"
  },
  "language_info": {
   "codemirror_mode": {
    "name": "ipython",
    "version": 3
   },
   "file_extension": ".py",
   "mimetype": "text/x-python",
   "name": "python",
   "nbconvert_exporter": "python",
   "pygments_lexer": "ipython3",
   "version": "3.8.20"
  }
 },
 "nbformat": 4,
 "nbformat_minor": 2
}
