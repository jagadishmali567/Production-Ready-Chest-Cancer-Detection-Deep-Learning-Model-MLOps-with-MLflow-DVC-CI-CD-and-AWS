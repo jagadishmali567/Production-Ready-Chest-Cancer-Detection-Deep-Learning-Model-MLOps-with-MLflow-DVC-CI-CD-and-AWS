{
 "cells": [
  {
   "cell_type": "code",
   "execution_count": 1,
   "metadata": {},
   "outputs": [],
   "source": [
    "# import os for creating directories and file paths in the notebook environment\n",
    "import os"
   ]
  },
  {
   "cell_type": "code",
   "execution_count": 2,
   "metadata": {},
   "outputs": [
    {
     "data": {
      "text/plain": [
       "'g:\\\\Jagadish\\\\Production-Ready-Chest-Cancer-Detection-Deep-Learning-Model-MLOps-with-MLflow-DVC-CI-CD-and-AWS\\\\research'"
      ]
     },
     "execution_count": 2,
     "metadata": {},
     "output_type": "execute_result"
    }
   ],
   "source": [
    "# checking the current working directory of the notebook environment\n",
    "%pwd"
   ]
  },
  {
   "cell_type": "code",
   "execution_count": 3,
   "metadata": {},
   "outputs": [],
   "source": [
    "# changing the current working directory to the parent directory of the notebook environment\n",
    "os.chdir(\"../\")"
   ]
  },
  {
   "cell_type": "code",
   "execution_count": 4,
   "metadata": {},
   "outputs": [
    {
     "data": {
      "text/plain": [
       "'g:\\\\Jagadish\\\\Production-Ready-Chest-Cancer-Detection-Deep-Learning-Model-MLOps-with-MLflow-DVC-CI-CD-and-AWS'"
      ]
     },
     "execution_count": 4,
     "metadata": {},
     "output_type": "execute_result"
    }
   ],
   "source": [
    "# checking the current working directory of the notebook environment\n",
    "%pwd"
   ]
  },
  {
   "cell_type": "code",
   "execution_count": 5,
   "metadata": {},
   "outputs": [],
   "source": [
    "os.environ[\"MLFLOW_TRACKING_URI\"]=\"https://dagshub.com/jagadishmali567/Production-Ready-Chest-Cancer-Detection-Deep-Learning-Model-MLOps-with-MLflow-DVC-CI-CD-and-AWS.mlflow\""
   ]
  },
  {
   "cell_type": "code",
   "execution_count": 6,
   "metadata": {},
   "outputs": [],
   "source": [
    "import tensorflow as tf"
   ]
  },
  {
   "cell_type": "code",
   "execution_count": 7,
   "metadata": {},
   "outputs": [],
   "source": [
    "model = tf.keras.models.load_model(\"artifacts/training/model.h5\")"
   ]
  },
  {
   "cell_type": "code",
   "execution_count": 8,
   "metadata": {},
   "outputs": [],
   "source": [
    "from dataclasses import dataclass\n",
    "from pathlib import Path\n",
    "\n",
    "@dataclass(frozen=True)\n",
    "class EvaluationConfig:\n",
    "    \"\"\"\n",
    "    Data class to hold configuration settings for model evaluation.\n",
    "\n",
    "    Attributes:\n",
    "        path_of_model (Path): Path to the trained model.\n",
    "        training_data (Path): Path to the training data used for the model.\n",
    "        all_params (dict): Dictionary containing all parameters used for model training and evaluation.\n",
    "        mlflow_uri (str): URI for MLflow tracking server to log experiments and results.\n",
    "        params_image_size (list): List containing the dimensions of the input images.\n",
    "        params_batch_size (int): Size of the batches for evaluation.\n",
    "    \"\"\"\n",
    "    path_of_model: Path\n",
    "    training_data: Path\n",
    "    all_params: dict\n",
    "    mlflow_uri: str\n",
    "    params_image_size: list\n",
    "    params_batch_size: int"
   ]
  },
  {
   "cell_type": "code",
   "execution_count": 9,
   "metadata": {},
   "outputs": [
    {
     "name": "stdout",
     "output_type": "stream",
     "text": [
      "[2024-12-16 19:21:02,392: INFO: __init__: Logging setup is complete.]\n"
     ]
    }
   ],
   "source": [
    "from cnnClassifier.constants import *\n",
    "from cnnClassifier.utils.common import read_yaml, create_directories, save_json"
   ]
  },
  {
   "cell_type": "code",
   "execution_count": 10,
   "metadata": {},
   "outputs": [],
   "source": [
    "class ConfigurationManager:\n",
    "    \"\"\"\n",
    "    Class to manage the configuration and parameters for setting up the evaluation environment.\n",
    "\n",
    "    Attributes:\n",
    "        config_filepath (str): Path to the configuration YAML file.\n",
    "        params_filepath (str): Path to the parameters YAML file.\n",
    "    \"\"\"\n",
    "\n",
    "    def __init__(self, config_filepath=CONFIG_FILE_PATH, params_filepath=PARAMS_FILE_PATH):\n",
    "        \"\"\"\n",
    "        Initializes the ConfigurationManager with the given file paths.\n",
    "\n",
    "        Args:\n",
    "            config_filepath (str): Path to the configuration YAML file.\n",
    "            params_filepath (str): Path to the parameters YAML file.\n",
    "        \"\"\"\n",
    "        self.config = read_yaml(config_filepath)  # Read the configuration file\n",
    "        self.params = read_yaml(params_filepath)  # Read the parameters file\n",
    "        create_directories([self.config.artifacts_root])  # Create directories specified in the config\n",
    "\n",
    "    def get_evaluation_config(self) -> EvaluationConfig:\n",
    "        \"\"\"\n",
    "        Retrieves the evaluation configuration.\n",
    "\n",
    "        Returns:\n",
    "            EvaluationConfig: An instance of EvaluationConfig with the specified settings.\n",
    "        \"\"\"\n",
    "        eval_config = EvaluationConfig(\n",
    "            path_of_model=\"artifacts/training/model.h5\",  # Path to the trained model\n",
    "            training_data=\"artifacts/data_ingestion/Chest-CT-Scan-data\",  # Path to the training data\n",
    "            mlflow_uri=\"https://dagshub.com/jagadishmali567/Production-Ready-Chest-Cancer-Detection-Deep-Learning-Model-MLOps-with-MLflow-DVC-CI-CD-and-AWS.mlflow\",  # MLflow tracking URI\n",
    "            all_params=self.params,  # Parameters from the parameters YAML file\n",
    "            params_image_size=self.params.IMAGE_SIZE,  # Image size parameter\n",
    "            params_batch_size=self.params.BATCH_SIZE  # Batch size parameter\n",
    "        )\n",
    "        return eval_config\n"
   ]
  },
  {
   "cell_type": "code",
   "execution_count": 11,
   "metadata": {},
   "outputs": [],
   "source": [
    "import tensorflow as tf\n",
    "from pathlib import Path\n",
    "import dagshub\n",
    "import mlflow\n",
    "import mlflow.keras\n",
    "from urllib.parse import urlparse"
   ]
  },
  {
   "cell_type": "code",
   "execution_count": 12,
   "metadata": {},
   "outputs": [],
   "source": [
    "class Evaluation:\n",
    "    \"\"\"\n",
    "    Class to handle the evaluation process of a trained machine learning model.\n",
    "\n",
    "    Attributes:\n",
    "        config (EvaluationConfig): Configuration settings for model evaluation.\n",
    "    \"\"\"\n",
    "\n",
    "    def __init__(self, config: EvaluationConfig):\n",
    "        \"\"\"\n",
    "        Initializes the Evaluation with the given configuration.\n",
    "\n",
    "        Args:\n",
    "            config (EvaluationConfig): Configuration settings for model evaluation.\n",
    "        \"\"\"\n",
    "        self.config = config\n",
    "\n",
    "    def _valid_generator(self):\n",
    "        \"\"\"\n",
    "        Creates a validation data generator using Keras' ImageDataGenerator.\n",
    "\n",
    "        This method sets up the data augmentation and preprocessing steps and\n",
    "        creates a flow from the directory specified in the configuration.\n",
    "        \"\"\"\n",
    "        datagenerator_kwargs = dict(\n",
    "            rescale=1./255,\n",
    "            validation_split=0.30\n",
    "        )\n",
    "\n",
    "        dataflow_kwargs = dict(\n",
    "            target_size=self.config.params_image_size[:-1],\n",
    "            batch_size=self.config.params_batch_size,\n",
    "            interpolation=\"bilinear\"\n",
    "        )\n",
    "\n",
    "        valid_datagenerator = tf.keras.preprocessing.image.ImageDataGenerator(\n",
    "            **datagenerator_kwargs\n",
    "        )\n",
    "\n",
    "        self.valid_generator = valid_datagenerator.flow_from_directory(\n",
    "            directory=self.config.training_data,\n",
    "            subset=\"validation\",\n",
    "            shuffle=False,\n",
    "            **dataflow_kwargs\n",
    "        )\n",
    "\n",
    "    @staticmethod\n",
    "    def load_model(path: Path) -> tf.keras.Model:\n",
    "        \"\"\"\n",
    "        Loads a trained Keras model from the specified file path.\n",
    "\n",
    "        Args:\n",
    "            path (Path): Path to the trained model file.\n",
    "\n",
    "        Returns:\n",
    "            tf.keras.Model: Loaded Keras model.\n",
    "        \"\"\"\n",
    "        return tf.keras.models.load_model(path)\n",
    "\n",
    "    def evaluation(self):\n",
    "        \"\"\"\n",
    "        Evaluates the trained model using the validation data generator.\n",
    "\n",
    "        This method loads the model, sets up the validation data generator,\n",
    "        performs evaluation, and saves the evaluation scores.\n",
    "        \"\"\"\n",
    "        self.model = self.load_model(self.config.path_of_model)\n",
    "        self._valid_generator()\n",
    "        self.score = self.model.evaluate(self.valid_generator)\n",
    "        self.save_score()\n",
    "\n",
    "    def save_score(self):\n",
    "        \"\"\"\n",
    "        Saves the evaluation scores to a JSON file.\n",
    "\n",
    "        This method creates a dictionary of scores and saves it as a JSON file.\n",
    "        \"\"\"\n",
    "        scores = {\"loss\": self.score[0], \"accuracy\": self.score[1]}\n",
    "        save_json(path=Path(\"scores.json\"), data=scores)\n",
    "\n",
    "    def log_into_mlflow(self):\n",
    "        \"\"\"\n",
    "        Logs the evaluation parameters and metrics into MLflow.\n",
    "\n",
    "        This method logs the parameters, evaluation scores, and registers the\n",
    "        model in MLflow if applicable.\n",
    "        \"\"\"\n",
    "        # Initialize DagsHub for MLflow tracking\n",
    "        dagshub.init(repo_owner='jagadishmali567', \n",
    "                     repo_name='Production-Ready-Chest-Cancer-Detection-Deep-Learning-Model-MLOps-with-MLflow-DVC-CI-CD-and-AWS', \n",
    "                     mlflow=True)\n",
    "\n",
    "        with mlflow.start_run():\n",
    "            mlflow.log_params(self.config.all_params)\n",
    "            mlflow.log_metrics(\n",
    "                {\"loss\": self.score[0], \"accuracy\": self.score[1]}\n",
    "            )\n",
    "\n",
    "            # Register the model\n",
    "            mlflow.keras.log_model(self.model, \"model\", registered_model_name=\"VGG16Model\")\n"
   ]
  },
  {
   "cell_type": "code",
   "execution_count": 13,
   "metadata": {},
   "outputs": [
    {
     "name": "stdout",
     "output_type": "stream",
     "text": [
      "[2024-12-16 19:21:05,600: INFO: common: yaml file: config\\config.yaml loaded successfully]\n",
      "[2024-12-16 19:21:05,633: INFO: common: yaml file: params.yaml loaded successfully]\n",
      "[2024-12-16 19:21:05,650: INFO: common: created directory at: artifacts]\n",
      "Found 102 images belonging to 2 classes.\n",
      "7/7 [==============================] - 19s 2s/step - loss: 23.7682 - accuracy: 0.5686\n",
      "[2024-12-16 19:21:25,347: INFO: common: json file saved at: scores.json]\n",
      "[2024-12-16 19:21:26,455: INFO: _client: HTTP Request: GET https://dagshub.com/api/v1/user \"HTTP/1.1 200 OK\"]\n"
     ]
    },
    {
     "data": {
      "text/html": [
       "<pre style=\"white-space:pre;overflow-x:auto;line-height:normal;font-family:Menlo,'DejaVu Sans Mono',consolas,'Courier New',monospace\">Accessing as jagadishmali567\n",
       "</pre>\n"
      ],
      "text/plain": [
       "Accessing as jagadishmali567\n"
      ]
     },
     "metadata": {},
     "output_type": "display_data"
    },
    {
     "name": "stdout",
     "output_type": "stream",
     "text": [
      "[2024-12-16 19:21:26,463: INFO: helpers: Accessing as jagadishmali567]\n",
      "[2024-12-16 19:21:27,656: INFO: _client: HTTP Request: GET https://dagshub.com/api/v1/repos/jagadishmali567/Production-Ready-Chest-Cancer-Detection-Deep-Learning-Model-MLOps-with-MLflow-DVC-CI-CD-and-AWS \"HTTP/1.1 200 OK\"]\n",
      "[2024-12-16 19:21:28,766: INFO: _client: HTTP Request: GET https://dagshub.com/api/v1/user \"HTTP/1.1 200 OK\"]\n"
     ]
    },
    {
     "data": {
      "text/html": [
       "<pre style=\"white-space:pre;overflow-x:auto;line-height:normal;font-family:Menlo,'DejaVu Sans Mono',consolas,'Courier New',monospace\">Initialized MLflow to track repo \n",
       "<span style=\"color: #008000; text-decoration-color: #008000\">\"jagadishmali567/Production-Ready-Chest-Cancer-Detection-Deep-Learning-Model-MLOps-with-MLflow-DVC-CI-CD-and-AWS\"</span>\n",
       "</pre>\n"
      ],
      "text/plain": [
       "Initialized MLflow to track repo \n",
       "\u001b[32m\"jagadishmali567/Production-Ready-Chest-Cancer-Detection-Deep-Learning-Model-MLOps-with-MLflow-DVC-CI-CD-and-AWS\"\u001b[0m\n"
      ]
     },
     "metadata": {},
     "output_type": "display_data"
    },
    {
     "name": "stdout",
     "output_type": "stream",
     "text": [
      "[2024-12-16 19:21:28,766: INFO: helpers: Initialized MLflow to track repo \"jagadishmali567/Production-Ready-Chest-Cancer-Detection-Deep-Learning-Model-MLOps-with-MLflow-DVC-CI-CD-and-AWS\"]\n"
     ]
    },
    {
     "data": {
      "text/html": [
       "<pre style=\"white-space:pre;overflow-x:auto;line-height:normal;font-family:Menlo,'DejaVu Sans Mono',consolas,'Courier New',monospace\">Repository \n",
       "jagadishmali567/Production-Ready-Chest-Cancer-Detection-Deep-Learning-Model-MLOps-with-MLflow-DVC-CI-CD-and-AWS \n",
       "initialized!\n",
       "</pre>\n"
      ],
      "text/plain": [
       "Repository \n",
       "jagadishmali567/Production-Ready-Chest-Cancer-Detection-Deep-Learning-Model-MLOps-with-MLflow-DVC-CI-CD-and-AWS \n",
       "initialized!\n"
      ]
     },
     "metadata": {},
     "output_type": "display_data"
    },
    {
     "name": "stdout",
     "output_type": "stream",
     "text": [
      "[2024-12-16 19:21:28,780: INFO: helpers: Repository jagadishmali567/Production-Ready-Chest-Cancer-Detection-Deep-Learning-Model-MLOps-with-MLflow-DVC-CI-CD-and-AWS initialized!]\n"
     ]
    },
    {
     "name": "stderr",
     "output_type": "stream",
     "text": [
      "2024/12/16 19:21:30 WARNING mlflow.tensorflow: You are saving a TensorFlow Core model or Keras model without a signature. Inference with mlflow.pyfunc.spark_udf() will not work unless the model's pyfunc representation accepts pandas DataFrames as inference inputs.\n"
     ]
    },
    {
     "name": "stdout",
     "output_type": "stream",
     "text": [
      "[2024-12-16 19:21:33,214: WARNING: save: Found untraced functions such as _jit_compiled_convolution_op, _jit_compiled_convolution_op, _jit_compiled_convolution_op, _jit_compiled_convolution_op, _jit_compiled_convolution_op while saving (showing 5 of 14). These functions will not be directly callable after loading.]\n",
      "INFO:tensorflow:Assets written to: C:\\Users\\arjun\\AppData\\Local\\Temp\\tmpsjl_f0gs\\model\\data\\model\\assets\n",
      "[2024-12-16 19:21:35,517: INFO: builder_impl: Assets written to: C:\\Users\\arjun\\AppData\\Local\\Temp\\tmpsjl_f0gs\\model\\data\\model\\assets]\n"
     ]
    },
    {
     "name": "stderr",
     "output_type": "stream",
     "text": [
      "c:\\Users\\arjun\\anaconda3\\envs\\ccancer\\lib\\site-packages\\_distutils_hack\\__init__.py:31: UserWarning: Setuptools is replacing distutils. Support for replacing an already imported distutils is deprecated. In the future, this condition will fail. Register concerns at https://github.com/pypa/setuptools/issues/new?template=distutils-deprecation.yml\n",
      "  warnings.warn(\n",
      "Successfully registered model 'VGG16Model'.\n",
      "2024/12/16 19:22:36 INFO mlflow.tracking._model_registry.client: Waiting up to 300 seconds for model version to finish creation.                     Model name: VGG16Model, version 1\n",
      "Created version '1' of model 'VGG16Model'.\n"
     ]
    }
   ],
   "source": [
    "try:\n",
    "    # Create an instance of ConfigurationManager\n",
    "    config = ConfigurationManager()\n",
    "    \n",
    "    # Retrieve the evaluation configuration\n",
    "    eval_config = config.get_evaluation_config()\n",
    "    \n",
    "    # Create an instance of Evaluation with the retrieved configuration\n",
    "    evaluation = Evaluation(eval_config)\n",
    "    \n",
    "    # Perform the evaluation\n",
    "    evaluation.evaluation()\n",
    "    \n",
    "    # Log the evaluation results into MLflow\n",
    "    evaluation.log_into_mlflow()\n",
    "\n",
    "except Exception as e:\n",
    "    # Raise any exception that occurs during the process\n",
    "    raise e\n"
   ]
  }
 ],
 "metadata": {
  "kernelspec": {
   "display_name": "ccancer",
   "language": "python",
   "name": "python3"
  },
  "language_info": {
   "codemirror_mode": {
    "name": "ipython",
    "version": 3
   },
   "file_extension": ".py",
   "mimetype": "text/x-python",
   "name": "python",
   "nbconvert_exporter": "python",
   "pygments_lexer": "ipython3",
   "version": "3.8.20"
  }
 },
 "nbformat": 4,
 "nbformat_minor": 2
}
